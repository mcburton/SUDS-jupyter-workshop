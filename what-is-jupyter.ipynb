{
 "cells": [
  {
   "cell_type": "markdown",
   "metadata": {
    "slideshow": {
     "slide_type": "slide"
    }
   },
   "source": [
    "#  Jupyter\n",
    "\n",
    "## Matt Burton (@mcburton) - University of Pittsburgh"
   ]
  },
  {
   "cell_type": "markdown",
   "metadata": {
    "slideshow": {
     "slide_type": "slide"
    }
   },
   "source": [
    "# What is Project Jupyter?\n",
    "\n",
    "> *Open source, interactive data science and scientific computing across over 40 programming languages.* - https://jupyter.org/"
   ]
  },
  {
   "cell_type": "markdown",
   "metadata": {
    "slideshow": {
     "slide_type": "fragment"
    }
   },
   "source": [
    "## Formerly known as IPython\n"
   ]
  },
  {
   "cell_type": "markdown",
   "metadata": {
    "slideshow": {
     "slide_type": "fragment"
    }
   },
   "source": [
    "## Originally an interpreter for Python, but now supports many languages (Julia, Python, R...)"
   ]
  },
  {
   "cell_type": "markdown",
   "metadata": {
    "slideshow": {
     "slide_type": "fragment"
    }
   },
   "source": [
    "## A generalized platform for interactive computing for open science (and beyond!)"
   ]
  },
  {
   "cell_type": "markdown",
   "metadata": {
    "slideshow": {
     "slide_type": "slide"
    }
   },
   "source": [
    "# Jupyter Notebooks have three components\n",
    "\n",
    "## Computational Kernel | Notebook Server | Notebook Format\n",
    "\n",
    "![Components](images/components.png)\n",
    "\n",
    "\n"
   ]
  },
  {
   "cell_type": "markdown",
   "metadata": {
    "slideshow": {
     "slide_type": "slide"
    }
   },
   "source": [
    "# Kernels\n",
    "\n",
    "- Kernels are the engines of computation"
   ]
  },
  {
   "cell_type": "markdown",
   "metadata": {
    "slideshow": {
     "slide_type": "fragment"
    }
   },
   "source": [
    "## Each Notebook is associated with a *kernel* "
   ]
  },
  {
   "cell_type": "markdown",
   "metadata": {
    "slideshow": {
     "slide_type": "fragment"
    }
   },
   "source": [
    "## Kernels handle computation separate from the notebook"
   ]
  },
  {
   "cell_type": "markdown",
   "metadata": {
    "slideshow": {
     "slide_type": "fragment"
    }
   },
   "source": [
    "## Kernels can be written in any programming language\n",
    "\n",
    "- Python(https://github.com/ipython/ipython)\n",
    "- Julia (https://github.com/JuliaLang/IJulia.jl)\n",
    "- R (https://github.com/takluyver/IRkernel)\n",
    "- Ruby (https://github.com/minrk/iruby)\n",
    "- Haskell (https://github.com/gibiansky/IHaskell)\n",
    "- and beyond! (https://github.com/ipython/ipython/wiki/IPython-kernels-for-other-languages) *there are 53 kernels as of this writing*"
   ]
  },
  {
   "cell_type": "markdown",
   "metadata": {
    "slideshow": {
     "slide_type": "slide"
    }
   },
   "source": [
    "# Notebook Server\n",
    "\n",
    "> The Jupyter Notebook is a web application that allows you to create and share documents that contain live code, equations, visualizations and explanatory text. Uses include: data cleaning and transformation, numerical simulation, statistical modeling, machine learning and much more."
   ]
  },
  {
   "cell_type": "markdown",
   "metadata": {
    "collapsed": true,
    "slideshow": {
     "slide_type": "slide"
    }
   },
   "source": [
    "# Dashboard\n",
    "\n",
    "![Notebook Dashboard](images/dashboard.png)"
   ]
  },
  {
   "cell_type": "markdown",
   "metadata": {
    "slideshow": {
     "slide_type": "slide"
    }
   },
   "source": [
    "## Editing Notebooks\n",
    "\n",
    "![Editing this notebook](images/editing.png)"
   ]
  },
  {
   "cell_type": "markdown",
   "metadata": {
    "slideshow": {
     "slide_type": "slide"
    }
   },
   "source": [
    "# Anatomy of a Jupyter Notebook\n",
    "\n",
    "## Notebooks are composed of \"cells\"\n",
    "\n",
    "## The cells can be \"executed\""
   ]
  },
  {
   "cell_type": "markdown",
   "metadata": {
    "slideshow": {
     "slide_type": "slide"
    }
   },
   "source": [
    "## Code Cells\n",
    "\n",
    "* the FUNNEST cell"
   ]
  },
  {
   "cell_type": "code",
   "execution_count": null,
   "metadata": {
    "collapsed": true,
    "slideshow": {
     "slide_type": "fragment"
    }
   },
   "outputs": [],
   "source": [
    "# I am a code cell\n",
    "print('hello world!')"
   ]
  },
  {
   "cell_type": "code",
   "execution_count": null,
   "metadata": {
    "collapsed": false,
    "slideshow": {
     "slide_type": "fragment"
    }
   },
   "outputs": [],
   "source": [
    "# Executed code cells have their output displayed below\n",
    "print('hello world!')"
   ]
  },
  {
   "cell_type": "markdown",
   "metadata": {
    "slideshow": {
     "slide_type": "slide"
    }
   },
   "source": [
    "# Markdown Cells\n",
    "\n",
    "* also FUN\n",
    "\n",
    "## Markdown is a plaintext syntax for writing HTML\n",
    "\n",
    "\n",
    "```\n",
    "# Markdown is a plain-text syntax for writing HTML\n",
    "\n",
    "# I am an `<h1>` tag\n",
    "\n",
    "## I am a `<h2>` tag\n",
    "\n",
    "- This \n",
    "- is\n",
    "- a \n",
    "- list\n",
    "\n",
    "[There is even special syntax for links](http://jupyter.org)\n",
    "```"
   ]
  },
  {
   "cell_type": "markdown",
   "metadata": {
    "slideshow": {
     "slide_type": "slide"
    }
   },
   "source": [
    "\n",
    "# I am an `<h1>` tag\n",
    "\n",
    "## I am a `<h2>` tag\n",
    "\n",
    "- This \n",
    "- is\n",
    "- a \n",
    "- list\n",
    "\n",
    "[There is even special syntax for links](http://jupyter.org)\n"
   ]
  },
  {
   "cell_type": "markdown",
   "metadata": {
    "slideshow": {
     "slide_type": "slide"
    }
   },
   "source": [
    "# Raw Text Cells\n",
    "\n",
    "* not quite as fun"
   ]
  },
  {
   "cell_type": "raw",
   "metadata": {
    "collapsed": true,
    "slideshow": {
     "slide_type": "fragment"
    }
   },
   "source": [
    "Raw text cells are just plain text,\n",
    "     it preserves the formatting\n",
    "     \n",
    "     \n",
    "     of the cell.\n",
    "     \n",
    "nothing special happens when you execute them."
   ]
  },
  {
   "cell_type": "raw",
   "metadata": {
    "collapsed": true,
    "slideshow": {
     "slide_type": "fragment"
    }
   },
   "source": [
    "Raw text cells are just plain text,\n",
    "     it preserves the formatting\n",
    "     \n",
    "     \n",
    "     of the cell.\n",
    "     \n",
    "nothing special happens when you execute them."
   ]
  },
  {
   "cell_type": "markdown",
   "metadata": {
    "slideshow": {
     "slide_type": "slide"
    }
   },
   "source": [
    "# Rich Output\n",
    "\n",
    "- Python libraries can render output as HTML (instead of just text)"
   ]
  },
  {
   "cell_type": "code",
   "execution_count": null,
   "metadata": {
    "collapsed": false,
    "slideshow": {
     "slide_type": "fragment"
    }
   },
   "outputs": [],
   "source": [
    "# plot a sin curve as an image\n",
    "\n",
    "%matplotlib inline\n",
    "import matplotlib.pyplot as plt\n",
    "import numpy as np\n",
    "x = np.linspace(0, 3*np.pi, 500)\n",
    "plt.plot(x, np.sin(x**2))\n",
    "plt.title('A simple chirp')"
   ]
  },
  {
   "cell_type": "code",
   "execution_count": null,
   "metadata": {
    "collapsed": false,
    "slideshow": {
     "slide_type": "slide"
    }
   },
   "outputs": [],
   "source": [
    "# load some data from Carnegie Museum of Art\n",
    "\n",
    "import pandas\n",
    "tabular_data = pandas.read_csv(\"fun-data.csv\")\n",
    "tabular_data[0:5]"
   ]
  },
  {
   "cell_type": "markdown",
   "metadata": {
    "slideshow": {
     "slide_type": "slide"
    }
   },
   "source": [
    "# Under the hood, Notebooks are JSON documents\n",
    "\n",
    "- an emerging standard with schemas n'at"
   ]
  },
  {
   "cell_type": "markdown",
   "metadata": {
    "slideshow": {
     "slide_type": "fragment"
    }
   },
   "source": [
    "```json\n",
    "{\n",
    " \"cells\": [\n",
    "  {\n",
    "   \"cell_type\": \"markdown\",\n",
    "   \"metadata\": {\n",
    "    \"slideshow\": {\n",
    "     \"slide_type\": \"slide\"\n",
    "    }\n",
    "   },\n",
    "   \"source\": [\n",
    "    \"# Data Presentation With Jupyter\\n\",\n",
    "    \"\\n\",\n",
    "    \"## Matt Burton - University of Pittsburgh\"\n",
    "   ]\n",
    "  },\n",
    "  {\n",
    "   \"cell_type\": \"markdown\",\n",
    "   \"metadata\": {\n",
    "    \"slideshow\": {\n",
    "     \"slide_type\": \"slide\"\n",
    "    }\n",
    "   },\n",
    "   \"source\": [\n",
    "    \"# What is Project Jupyter?\\n\",\n",
    "```"
   ]
  },
  {
   "cell_type": "markdown",
   "metadata": {
    "collapsed": true,
    "slideshow": {
     "slide_type": "slide"
    }
   },
   "source": [
    "# Notebook Documents are *computational narratives*\n",
    "\n",
    "## Blending Text | Code | Data\n",
    "\n",
    "![Notebook elements](images/notebook-elements.jpg)\n",
    "\n",
    "\n"
   ]
  },
  {
   "cell_type": "markdown",
   "metadata": {
    "slideshow": {
     "slide_type": "slide"
    }
   },
   "source": [
    "# Jupyter Notebooks are a container format for these computational narratives\n",
    "\n",
    "![Computational Narrative](images/computational-narrative.PNG)"
   ]
  },
  {
   "cell_type": "markdown",
   "metadata": {
    "slideshow": {
     "slide_type": "slide"
    }
   },
   "source": [
    "# Collaborative\n",
    "\n",
    "![Collaborate](images/collaborate.png)"
   ]
  },
  {
   "cell_type": "markdown",
   "metadata": {
    "slideshow": {
     "slide_type": "slide"
    }
   },
   "source": [
    "# Sharable\n",
    "\n",
    "![Sharable](images/notebook-share.PNG)"
   ]
  },
  {
   "cell_type": "markdown",
   "metadata": {
    "slideshow": {
     "slide_type": "slide"
    }
   },
   "source": [
    "# Publishable\n",
    "\n",
    "![Publishing](images/publishable.PNG)\n",
    "\n",
    "https://github.com/BuzzFeedNews/2014-09-tuition-and-minimum-wage"
   ]
  },
  {
   "cell_type": "markdown",
   "metadata": {
    "slideshow": {
     "slide_type": "slide"
    }
   },
   "source": [
    "# The Jupyter Ecosystem"
   ]
  },
  {
   "cell_type": "markdown",
   "metadata": {
    "slideshow": {
     "slide_type": "slide"
    }
   },
   "source": [
    "## http://nbviewer.ipython.org\n",
    "\n",
    "![nbviewer](images/nbviewer.png)"
   ]
  },
  {
   "cell_type": "markdown",
   "metadata": {
    "slideshow": {
     "slide_type": "slide"
    }
   },
   "source": [
    "## Github will automatically render .ipynb files in the browser \n",
    "\n",
    "![Github Notebook Rendering](images/github.png)"
   ]
  },
  {
   "cell_type": "markdown",
   "metadata": {
    "collapsed": true,
    "slideshow": {
     "slide_type": "slide"
    }
   },
   "source": [
    "# Turn a Github repo into a *live* and *interactive* notebook\n",
    "![Binder](images/binder.png)"
   ]
  },
  {
   "cell_type": "markdown",
   "metadata": {
    "slideshow": {
     "slide_type": "slide"
    }
   },
   "source": [
    "# What becomes possible when you put it all together?"
   ]
  },
  {
   "cell_type": "markdown",
   "metadata": {
    "collapsed": true,
    "slideshow": {
     "slide_type": "slide"
    }
   },
   "source": [
    "# PLOTS!\n",
    "\n",
    "![XKCD Style plots in Matplotlib](http://jakevdp.github.com/figures/xkcd_version.png)\n",
    "\n",
    "http://nbviewer.ipython.org/url/jakevdp.github.com/downloads/notebooks/XKCD_plots.ipynb"
   ]
  },
  {
   "cell_type": "markdown",
   "metadata": {
    "slideshow": {
     "slide_type": "slide"
    }
   },
   "source": [
    "## GIFS!\n",
    "![ANIMATED GIFS!](https://github.com/mbauman/TrafficSpeed/raw/f8d4e5dad846b61854be1e45426096dcef500e5d/assets/processedclip.gif)\n",
    "\n",
    "https://github.com/mbauman/TrafficSpeed/blob/master/TrafficSpeed.ipynb"
   ]
  },
  {
   "cell_type": "markdown",
   "metadata": {
    "slideshow": {
     "slide_type": "slide"
    }
   },
   "source": [
    "# Nature\n",
    "\n",
    "![Nature interactive demo](images/nature-demo.png)\n",
    "\n",
    "http://www.nature.com/news/interactive-notebooks-sharing-the-code-1.16261"
   ]
  },
  {
   "cell_type": "markdown",
   "metadata": {},
   "source": [
    "## [try.jupyter.org](https://try.jupyter.org/)"
   ]
  },
  {
   "cell_type": "code",
   "execution_count": null,
   "metadata": {
    "collapsed": false,
    "slideshow": {
     "slide_type": "skip"
    }
   },
   "outputs": [],
   "source": [
    "!jupyter nbconvert data-presentation-with-jupyter --to slides --post serve"
   ]
  },
  {
   "cell_type": "code",
   "execution_count": null,
   "metadata": {
    "collapsed": true,
    "slideshow": {
     "slide_type": "skip"
    }
   },
   "outputs": [],
   "source": []
  }
 ],
 "metadata": {
  "celltoolbar": "Slideshow",
  "kernelspec": {
   "display_name": "Python 3",
   "language": "python",
   "name": "python3"
  },
  "language_info": {
   "codemirror_mode": {
    "name": "ipython",
    "version": 3
   },
   "file_extension": ".py",
   "mimetype": "text/x-python",
   "name": "python",
   "nbconvert_exporter": "python",
   "pygments_lexer": "ipython3",
   "version": "3.4.2"
  },
  "widgets": {
   "state": {},
   "version": "1.0.0"
  }
 },
 "nbformat": 4,
 "nbformat_minor": 0
}
