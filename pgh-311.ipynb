{
 "cells": [
  {
   "cell_type": "markdown",
   "metadata": {},
   "source": [
    "# Playing around with Pittsburgh 311 Data\n",
    "\n",
    "\n",
    "This notebook is going to play around with the [311 Data](https://data.wprdc.org/dataset/311-data) from the [Western Pennsylvania Regional Data Center](http://www.wprdc.org/)\n",
    "\n",
    "\n",
    "I have taken the liberty of downloading the 311 data \n"
   ]
  },
  {
   "cell_type": "code",
   "execution_count": null,
   "metadata": {},
   "outputs": [],
   "source": [
    "# use the %ls magic to list the files in the current directory.\n",
    "%ls"
   ]
  },
  {
   "cell_type": "code",
   "execution_count": null,
   "metadata": {},
   "outputs": [],
   "source": [
    "import pandas as pd\n",
    "import matplotlib.pyplot as plt\n",
    "import seaborn as sms\n",
    "%matplotlib inline"
   ]
  },
  {
   "cell_type": "code",
   "execution_count": null,
   "metadata": {},
   "outputs": [],
   "source": [
    "three11s = pd.read_csv(\"data/pgh-311.csv\", \n",
    "                       parse_dates=['CREATED_ON'])"
   ]
  },
  {
   "cell_type": "code",
   "execution_count": null,
   "metadata": {},
   "outputs": [],
   "source": [
    "three11s.dtypes"
   ]
  },
  {
   "cell_type": "code",
   "execution_count": null,
   "metadata": {},
   "outputs": [],
   "source": [
    "three11s.head()"
   ]
  },
  {
   "cell_type": "code",
   "execution_count": null,
   "metadata": {},
   "outputs": [],
   "source": [
    "three11s.loc[0]"
   ]
  },
  {
   "cell_type": "markdown",
   "metadata": {},
   "source": [
    "## Embedded Plots"
   ]
  },
  {
   "cell_type": "code",
   "execution_count": null,
   "metadata": {},
   "outputs": [],
   "source": [
    "# Plot the number of 311 requests per month\n",
    "\n",
    "month_counts = three11s.groupby(three11s.CREATED_ON.dt.month)\n",
    "\n",
    "y = month_counts.size()\n",
    "x = month_counts.CREATED_ON.first()\n",
    "\n",
    "axes = pd.Series(y.values, index=x).plot(figsize=(15,5))\n",
    "\n",
    "plt.ylim(0)\n",
    "plt.xlabel('Month')\n",
    "plt.ylabel('Complaint')\n"
   ]
  },
  {
   "cell_type": "markdown",
   "metadata": {},
   "source": [
    "# Exploring Request types"
   ]
  },
  {
   "cell_type": "code",
   "execution_count": null,
   "metadata": {},
   "outputs": [],
   "source": [
    "grouped_by_type = three11s.groupby(three11s.REQUEST_TYPE)\n",
    "\n",
    "size = grouped_by_type.size()\n",
    "size\n",
    "#len(size)\n",
    "#size[size > 200]\n"
   ]
  },
  {
   "cell_type": "markdown",
   "metadata": {},
   "source": [
    "There are too many request types (268). We need some higher level categories to make this more comprehensible. Fortunately, there is an [Issue and Category codebook](https://data.wprdc.org/dataset/311-data/resource/40ddfbed-f225-4320-b4d2-7f1e09da72a4) that we can use to map between low and higher level categories."
   ]
  },
  {
   "cell_type": "code",
   "execution_count": null,
   "metadata": {},
   "outputs": [],
   "source": [
    "codebook = pd.read_csv('data/codebook.csv')\n",
    "codebook.head()"
   ]
  },
  {
   "cell_type": "code",
   "execution_count": null,
   "metadata": {},
   "outputs": [],
   "source": [
    "merged_data = pd.merge(three11s, \n",
    "                       codebook[['Category', 'Issue']], \n",
    "                       how='left',\n",
    "                       left_on=\"REQUEST_TYPE\", \n",
    "                       right_on=\"Issue\")"
   ]
  },
  {
   "cell_type": "code",
   "execution_count": null,
   "metadata": {},
   "outputs": [],
   "source": [
    "merged_data.head()"
   ]
  },
  {
   "cell_type": "code",
   "execution_count": null,
   "metadata": {
    "scrolled": true
   },
   "outputs": [],
   "source": [
    "grouped_by_type = merged_data.groupby(merged_data.Category)\n",
    "size = grouped_by_type.size()\n",
    "size"
   ]
  },
  {
   "cell_type": "markdown",
   "metadata": {},
   "source": [
    "That is a more manageable list of categories for data visualization. Let's take a look at the distribution of requests per category in the dataset."
   ]
  },
  {
   "cell_type": "code",
   "execution_count": null,
   "metadata": {},
   "outputs": [],
   "source": [
    "size.plot(kind='barh', figsize=(8,6))"
   ]
  },
  {
   "cell_type": "markdown",
   "metadata": {
    "collapsed": true
   },
   "source": [
    "## Looking at requests at the neighborhood level\n",
    "\n",
    "\n",
    "Thankfully, the 311 data from the WPRDC already includes neighborhood information for each request in the NEIGHBORHOOD column. We can take advantage of this to filter and count requests by neighborhood."
   ]
  },
  {
   "cell_type": "code",
   "execution_count": null,
   "metadata": {},
   "outputs": [],
   "source": [
    "merged_data.groupby(merged_data.NEIGHBORHOOD).size().sort_values(inplace=False,\n",
    "                                                         ascending=False)"
   ]
  },
  {
   "cell_type": "markdown",
   "metadata": {},
   "source": [
    "In GRAPH form"
   ]
  },
  {
   "cell_type": "code",
   "execution_count": null,
   "metadata": {},
   "outputs": [],
   "source": [
    "merged_data.groupby(merged_data.NEIGHBORHOOD).size().sort_values(inplace=False,\n",
    "                                                         ascending=True).plot(kind=\"barh\", figsize=(5,20))"
   ]
  },
  {
   "cell_type": "markdown",
   "metadata": {},
   "source": [
    "So we can see from the graph above that Brookline, followed by the South Side Slopes, Carrick, and South Side Flats, make the most 311 requests. It would be interesting to get some neighborhood population data and compute the number of requests per capita. \n",
    "\n",
    "I bet those data are available, **maybe YOU could create that graph!**"
   ]
  },
  {
   "cell_type": "markdown",
   "metadata": {},
   "source": [
    "## Widgets\n",
    "\n",
    "Jupyter Notebooks have a very powerful [widget](https://github.com/ipython/ipywidgets) framework that allows you to easily add interactive components to live notebooks. "
   ]
  },
  {
   "cell_type": "code",
   "execution_count": null,
   "metadata": {},
   "outputs": [],
   "source": [
    "# create a function that generates a chart of requests per neighborhood\n",
    "def issues_by_neighborhood(neighborhood):\n",
    "    \"\"\"Generates a plot of issue categories by neighborhood\"\"\"\n",
    "    grouped_by_type = merged_data[merged_data['NEIGHBORHOOD'] == neighborhood].groupby(merged_data.Category)\n",
    "    size = grouped_by_type.size()\n",
    "    size.plot(kind='barh', figsize=(8,6))"
   ]
  },
  {
   "cell_type": "code",
   "execution_count": null,
   "metadata": {},
   "outputs": [],
   "source": [
    "issues_by_neighborhood('Greenfield')"
   ]
  },
  {
   "cell_type": "code",
   "execution_count": null,
   "metadata": {},
   "outputs": [],
   "source": [
    "issues_by_neighborhood('Brookline')"
   ]
  },
  {
   "cell_type": "code",
   "execution_count": null,
   "metadata": {},
   "outputs": [],
   "source": [
    "issues_by_neighborhood('Garfield')"
   ]
  },
  {
   "cell_type": "code",
   "execution_count": null,
   "metadata": {},
   "outputs": [],
   "source": [
    "from ipywidgets import interact\n",
    "\n",
    "@interact(hood=sorted(list(pd.Series(three11s.NEIGHBORHOOD.unique()).dropna())))\n",
    "def issues_by_neighborhood(hood):\n",
    "    \"\"\"Generates a plot of issue categories by neighborhood\"\"\"\n",
    "    grouped_by_type = merged_data[merged_data['NEIGHBORHOOD'] == hood].groupby(merged_data.Category)\n",
    "    size = grouped_by_type.size()\n",
    "    size.plot(kind='barh',figsize=(8,6))"
   ]
  }
 ],
 "metadata": {
  "kernelspec": {
   "display_name": "Python 3",
   "language": "python",
   "name": "python3"
  },
  "language_info": {
   "codemirror_mode": {
    "name": "ipython",
    "version": 3
   },
   "file_extension": ".py",
   "mimetype": "text/x-python",
   "name": "python",
   "nbconvert_exporter": "python",
   "pygments_lexer": "ipython3",
   "version": "3.4.2"
  },
  "widgets": {
   "state": {
    "033de7ceda1643f486dbd52012bfb39a": {
     "views": []
    },
    "0611dbc8972346e8a13e76d4ba48caff": {
     "views": []
    },
    "075994eb64464348b3645eff1b62ad01": {
     "views": []
    },
    "0b788067ba3643d68374ac0ad5e65f18": {
     "views": []
    },
    "1507fed980bc47d4ae69c121bc518d9b": {
     "views": []
    },
    "170c18cc2abd490cb5869443ae203d4a": {
     "views": []
    },
    "1af1f9b3566447c9a9641c39153a1798": {
     "views": []
    },
    "1f082a598e354e38abd544385fb66ba2": {
     "views": []
    },
    "207f3b813de043c4aa7ae1990a96521e": {
     "views": []
    },
    "240aaa0061074b94b45fd5c335e284db": {
     "views": []
    },
    "2abf1935182d4f23b662f684273aedcc": {
     "views": []
    },
    "307b97ddd387488f9d4281792e83b56f": {
     "views": []
    },
    "417b5802ba8e4c91bd89476af7d83fde": {
     "views": []
    },
    "442e939b023f495b916c2851cb5080d6": {
     "views": []
    },
    "4a5fe50ce94246558b3f31332ec7be69": {
     "views": []
    },
    "4bb91daf9de6472a9e14f1d7d1942d26": {
     "views": []
    },
    "551a956cbd4c435aa68adb1c6aa7fda0": {
     "views": []
    },
    "56d3d41217b74369b2c5b380fc8300dc": {
     "views": []
    },
    "7c914be9630542bcbbe5b2f4c67e04f1": {
     "views": []
    },
    "8804ebb49d7341fe92d3e4b601867bba": {
     "views": []
    },
    "8b92f00856fd4b9baaadf67c4b5752de": {
     "views": []
    },
    "8e9aa5e2d6184c08a476a8c21a60f341": {
     "views": []
    },
    "8eaf402a026a46278d7ecd9645213e91": {
     "views": []
    },
    "9765138b52b24ddc85ad79e8ec33ee9e": {
     "views": []
    },
    "98456a257eb64c3f9cff6e862fc5c338": {
     "views": []
    },
    "9849ce9d026e4a22a86e8997f0394a95": {
     "views": []
    },
    "a70fe37ea9fa4bdb8fd0765b3ea7e8fc": {
     "views": []
    },
    "aade6065a208442d9483872c2b757834": {
     "views": []
    },
    "ab14697330954cf89fb179a1b07b4765": {
     "views": []
    },
    "ad738e9520014cbd8a5ad184e38ea367": {
     "views": []
    },
    "b46f690f9bd344e38d40f7860f387179": {
     "views": []
    },
    "b7957696c3524af6a931113257814aa5": {
     "views": []
    },
    "bc35b53f429c492a86a49142fd18ea41": {
     "views": [
      {
       "cell": {
        "cell_type": "code",
        "execution_count": 79,
        "metadata": {
         "collapsed": false,
         "trusted": true
        },
        "outputs": [
         {
          "data": {
           "image/png": "iVBORw0KGgoAAAANSUhEUgAAAswAAAFtCAYAAAATeTzMAAAABHNCSVQICAgIfAhkiAAAAAlwSFlz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\nMEdEREREtJCAOSIiIiKihf8PXqHx4YLpR2cAAAAASUVORK5CYII=\n",
           "text/plain": "<matplotlib.figure.Figure at 0x10af1a748>"
          },
          "metadata": {},
          "output_type": "display_data"
         }
        ],
        "source": "from ipywidgets import interact\n\n@interact(hood=sorted(list(pd.Series(three11s.NEIGHBORHOOD.unique()).dropna())))\ndef issues_by_neighborhood(hood):\n    \"\"\"Generates a plot of issue categories by neighborhood\"\"\"\n    grouped_by_type = merged_data[merged_data['NEIGHBORHOOD'] == hood].groupby(merged_data.Category)\n    size = grouped_by_type.size()\n    size.plot(kind='barh',figsize=(8,6))"
       },
       "cell_index": 28,
       "root": true
      }
     ]
    },
    "be7c1fee4ac24fbf8c0bcd2bad086f0f": {
     "views": []
    },
    "cb5510ba78a24e339c707aa8b6c176d3": {
     "views": []
    },
    "cb67c0679ab1466b91d58dec54953630": {
     "views": []
    },
    "cbcfd7ccdf5248bab1d5fd1813d238c5": {
     "views": []
    },
    "d5f79d704d384e25bb5d0eee716ffb90": {
     "views": []
    },
    "d63f135f6f7744208d3c435704ebb2eb": {
     "views": []
    },
    "de863936a6c7413e97d293402557127f": {
     "views": []
    },
    "df41576f4e934b589a42ca101699a44d": {
     "views": []
    },
    "e34beae3ab184926ab8722ea14a64b85": {
     "views": []
    },
    "e3e6256529a8448c87efefb43cbc480a": {
     "views": []
    },
    "f0047d8613cc4cbca1ca2cd4a2ecfbc2": {
     "views": []
    },
    "f2539b0c125a4195a3262bea193f649e": {
     "views": []
    },
    "f6a06d7204d54da0bfbfc68ac62155fe": {
     "views": []
    },
    "f9e72479d46e4cf482d713d7e5cfd267": {
     "views": []
    },
    "faaefaf7f31242fabdfc08d9b6b55a85": {
     "views": []
    }
   },
   "version": "1.0.0"
  }
 },
 "nbformat": 4,
 "nbformat_minor": 1
}
